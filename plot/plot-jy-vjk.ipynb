{
 "cells": [
  {
   "cell_type": "code",
   "execution_count": 18,
   "metadata": {},
   "outputs": [
    {
     "name": "stdout",
     "output_type": "stream",
     "text": [
      "24\n"
     ]
    }
   ],
   "source": [
    "import re\n",
    "import numpy as np\n",
    "import matplotlib.pyplot as plt\n",
    "from matplotlib import cm\n",
    "from mpl_toolkits.mplot3d import Axes3D\n",
    "\n",
    "# Function to parse the data file\n",
    "def parse_data(filename):\n",
    "    data = []\n",
    "    content = None\n",
    "    with open(filename, 'r') as f:\n",
    "        content = f.read()\n",
    "\n",
    "    assert content is not None\n",
    "\n",
    "    sections = content.split('--')\n",
    "    for section in sections:\n",
    "        if not section.strip():\n",
    "            continue\n",
    "\n",
    "        lines = section.strip().split('\\n')\n",
    "        assert len(lines) == 6\n",
    "\n",
    "        t_cd = lines[0].split()[-2]\n",
    "        t_cd = float(t_cd)\n",
    "        t_isdf_build = lines[1].split()[-2]\n",
    "        t_isdf_build = float(t_isdf_build)\n",
    "        t_vj = lines[2].split()[-2]\n",
    "        t_vj = float(t_vj)\n",
    "        t_vk = lines[3].split()[-2]\n",
    "        t_vk = float(t_vk)\n",
    "\n",
    "        line = lines[5].split(\"###\")[1].split(\",\")\n",
    "        ke_cutoff = float(line[0])\n",
    "        c0 = float(line[1])\n",
    "        k0 = float(line[2])\n",
    "        m0 = float(line[3])\n",
    "        cisdf = float(line[4])\n",
    "        e_tot = float(line[5])\n",
    "\n",
    "        data.append({\n",
    "            't_cd': t_cd,\n",
    "            't_isdf_build': t_isdf_build,\n",
    "            't_vj': t_vj,\n",
    "            't_vk': t_vk,\n",
    "            'ke_cutoff': ke_cutoff,\n",
    "            'c0': c0,\n",
    "            'k0': k0,\n",
    "            'm0': m0,\n",
    "            'cisdf': cisdf,\n",
    "            'e_tot': e_tot\n",
    "        })\n",
    "        \n",
    "    return data\n",
    "\n",
    "# Parse the data\n",
    "data = parse_data('save-vjk-jy.out')\n",
    "print(len(data))\n"
   ]
  },
  {
   "cell_type": "code",
   "execution_count": null,
   "metadata": {},
   "outputs": [],
   "source": [
    "from matplotlib import pyplot as plt\n",
    "\n",
    "fig, ax = plt.subplots()\n",
    "x = [entry['m0'] for entry in data]\n",
    "y = [entry['e_tot'] for entry in data]"
   ]
  }
 ],
 "metadata": {
  "kernelspec": {
   "display_name": "base",
   "language": "python",
   "name": "python3"
  },
  "language_info": {
   "codemirror_mode": {
    "name": "ipython",
    "version": 3
   },
   "file_extension": ".py",
   "mimetype": "text/x-python",
   "name": "python",
   "nbconvert_exporter": "python",
   "pygments_lexer": "ipython3",
   "version": "3.12.7"
  }
 },
 "nbformat": 4,
 "nbformat_minor": 2
}
