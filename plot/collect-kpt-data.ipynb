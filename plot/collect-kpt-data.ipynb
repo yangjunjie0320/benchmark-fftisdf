{
 "cells": [
  {
   "cell_type": "code",
   "execution_count": null,
   "metadata": {},
   "outputs": [
    {
     "name": "stdout",
     "output_type": "stream",
     "text": [
      "../work/run-scf-kpt/diamond-prim/2-4-4/fftisdf-jy-1/100/c0-20.0-k0-80.0/out.log\n",
      "    CPU time for build     73.62 sec, wall time     73.95 sec\n",
      "\n",
      "    CPU time for vj      1.34 sec, wall time      1.35 sec\n",
      "\n",
      "    CPU time for vk      0.58 sec, wall time      0.58 sec\n",
      "\n",
      "###  ke_cutoff,         c0,         k0,        e_tot\n",
      "\n",
      "###   1.00e+02,   2.00e+01,   8.00e+01,   -11.144174\n",
      "\n",
      "{'kmesh': 32, 'method': 'fftisdf-jy', 'ncpu': 1, 'cell': 'diamond-prim', 'natm': 2, 't_build': 73.95, 't_vj': 1.35, 't_vk': 0.58, 'ke_cutoff': 100.0, 'c0': 20.0, 'k0': 80.0, 'e_tot': -11.144174}\n"
     ]
    },
    {
     "ename": "AssertionError",
     "evalue": "",
     "output_type": "error",
     "traceback": [
      "\u001b[0;31m---------------------------------------------------------------------------\u001b[0m",
      "\u001b[0;31mAssertionError\u001b[0m                            Traceback (most recent call last)",
      "Cell \u001b[0;32mIn[18], line 47\u001b[0m\n\u001b[1;32m     45\u001b[0m \u001b[38;5;28;01mfor\u001b[39;00m out_log \u001b[38;5;129;01min\u001b[39;00m out_logs:\n\u001b[1;32m     46\u001b[0m     \u001b[38;5;28mprint\u001b[39m(out_log)\n\u001b[0;32m---> 47\u001b[0m     get_info_from_out_log(out_log)\n\u001b[1;32m     48\u001b[0m     \u001b[38;5;28;01massert\u001b[39;00m \u001b[38;5;241m1\u001b[39m \u001b[38;5;241m==\u001b[39m \u001b[38;5;241m2\u001b[39m\n",
      "Cell \u001b[0;32mIn[18], line 41\u001b[0m, in \u001b[0;36mget_info_from_out_log\u001b[0;34m(out_log)\u001b[0m\n\u001b[1;32m     38\u001b[0m         \u001b[38;5;66;03m# print(key, value)\u001b[39;00m\n\u001b[1;32m     40\u001b[0m \u001b[38;5;28mprint\u001b[39m(d)\n\u001b[0;32m---> 41\u001b[0m \u001b[38;5;28;01massert\u001b[39;00m \u001b[38;5;241m1\u001b[39m \u001b[38;5;241m==\u001b[39m \u001b[38;5;241m2\u001b[39m\n",
      "\u001b[0;31mAssertionError\u001b[0m: "
     ]
    }
   ],
   "source": [
    "import sys, os, glob\n",
    "import numpy, scipy\n",
    "\n",
    "path = \"../work/run-scf-kpt\"\n",
    "assert os.path.exists(path)\n",
    "\n",
    "# find all the out.log files\n",
    "out_logs = glob.glob(os.path.join(path, \"**\", \"out.log\"), recursive=True)\n",
    "\n",
    "def get_info_from_out_log(out_log):\n",
    "    d = {}\n",
    "    kmesh = out_log.split(\"/\")[4]\n",
    "    kmesh = [int(x) for x in kmesh.split(\"-\")]\n",
    "    d[\"kmesh\"] = numpy.prod(kmesh)\n",
    "    d[\"method\"] = \"-\".join(out_log.split(\"/\")[5].split(\"-\")[:-1])\n",
    "    d[\"ncpu\"] = int(out_log.split(\"/\")[5].split(\"-\")[-1])\n",
    "    d[\"cell\"] = out_log.split(\"/\")[3]\n",
    "    d[\"natm\"] = 2 if d[\"cell\"] == \"diamond-prim\" else 8\n",
    "\n",
    "    with open(out_log, \"r\") as f:\n",
    "        table = []\n",
    "        for line in f:\n",
    "            # if start with CPU time for * sec, wall time * sec\n",
    "            print(line)\n",
    "            if \"CPU time\" in line:\n",
    "                key_word = line.split()[3]\n",
    "                wall_time = line.split()[8]\n",
    "                d[\"t_\" + key_word] = float(wall_time)\n",
    "\n",
    "            if \"###\" in line:\n",
    "                table.append(line)\n",
    "\n",
    "        assert len(table) == 2\n",
    "        keys = table[0][3:].split(\",\")\n",
    "        values = table[1][3:].split(\",\")\n",
    "        for key, value in zip(keys, values):\n",
    "            d[key.strip()] = float(value.strip())\n",
    "\n",
    "    return d\n",
    "\n",
    "data = []\n",
    "# read the out.log files\n",
    "for out_log in out_logs:\n",
    "    print(out_log)\n",
    "    d = get_info_from_out_log(out_log)\n",
    "    data.append(d)"
   ]
  },
  {
   "cell_type": "code",
   "execution_count": null,
   "metadata": {},
   "outputs": [],
   "source": []
  }
 ],
 "metadata": {
  "kernelspec": {
   "display_name": "base",
   "language": "python",
   "name": "python3"
  },
  "language_info": {
   "codemirror_mode": {
    "name": "ipython",
    "version": 3
   },
   "file_extension": ".py",
   "mimetype": "text/x-python",
   "name": "python",
   "nbconvert_exporter": "python",
   "pygments_lexer": "ipython3",
   "version": "3.12.7"
  }
 },
 "nbformat": 4,
 "nbformat_minor": 2
}
